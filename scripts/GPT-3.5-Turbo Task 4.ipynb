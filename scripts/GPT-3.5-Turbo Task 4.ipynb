{
 "cells": [
  {
   "cell_type": "code",
   "execution_count": 2,
   "id": "bd03f961",
   "metadata": {},
   "outputs": [],
   "source": [
    "from openai import OpenAI\n",
    "import simulations_Task4 as simulations\n",
    "import pandas as pd"
   ]
  },
  {
   "cell_type": "code",
   "execution_count": 3,
   "id": "f2ba4ef6",
   "metadata": {},
   "outputs": [],
   "source": [
    "api_key = \"[ENTER API KEY]\"\n",
    "client = OpenAI(api_key=api_key)"
   ]
  },
  {
   "cell_type": "code",
   "execution_count": 4,
   "id": "8409eb08",
   "metadata": {},
   "outputs": [],
   "source": [
    "model_name = \"gpt-3.5-turbo-0125\"\n",
    "n_runs = 30"
   ]
  },
  {
   "cell_type": "code",
   "execution_count": 1,
   "id": "731fbcfe",
   "metadata": {},
   "outputs": [],
   "source": [
    "columns = ['trial','context','L_index','M_index','H_index','L_option','M_option','H_option',\n",
    "           'left_index','middle_index','right_index','left_option','middle_option','right_option','choice','accuracy','chose_left','L_outcome','M_outcome','H_outcome']"
   ]
  },
  {
   "cell_type": "code",
   "execution_count": null,
   "id": "34005475",
   "metadata": {
    "scrolled": true
   },
   "outputs": [],
   "source": [
    "for run in range(n_runs):\n",
    "    task = simulations.BavardPalminteri2023Task_Standard(model_name = model_name, client = client)\n",
    "    print(f\"\\nRun {run}\\n\")\n",
    "    data = task.simulate()\n",
    "    data = pd.DataFrame(data, columns=columns)\n",
    "    data.to_csv(f\"../data/Task 4 (BP2023)/gpt-35/standard prompt/gpt-35 BP2023 standard run {run}.csv\", index=False)"
   ]
  },
  {
   "cell_type": "code",
   "execution_count": null,
   "id": "b1c23c5e",
   "metadata": {},
   "outputs": [],
   "source": [
    "for run in range(n_runs):\n",
    "    task = simulations.BavardPalminteri2023Task_Comparisons(model_name = model_name, client = client)\n",
    "    print(f\"\\nRun {run}\\n\")\n",
    "    data = task.simulate()\n",
    "    data = pd.DataFrame(data, columns=columns)\n",
    "    data.to_csv(f\"../data/Task 4 (BP2023)/gpt-35/comparisons prompt/gpt-35 BP2023 comparisons run {run}.csv\", index=False)"
   ]
  }
 ],
 "metadata": {
  "kernelspec": {
   "display_name": "Python 3 (ipykernel)",
   "language": "python",
   "name": "python3"
  },
  "language_info": {
   "codemirror_mode": {
    "name": "ipython",
    "version": 3
   },
   "file_extension": ".py",
   "mimetype": "text/x-python",
   "name": "python",
   "nbconvert_exporter": "python",
   "pygments_lexer": "ipython3",
   "version": "3.11.5"
  }
 },
 "nbformat": 4,
 "nbformat_minor": 5
}
