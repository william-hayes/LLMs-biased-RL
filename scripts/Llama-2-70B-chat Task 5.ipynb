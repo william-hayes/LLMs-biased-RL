{
 "cells": [
  {
   "cell_type": "code",
   "execution_count": 1,
   "id": "e17a5acc",
   "metadata": {},
   "outputs": [],
   "source": [
    "import pandas as pd\n",
    "import simulations_Task5 as simulations"
   ]
  },
  {
   "cell_type": "code",
   "execution_count": 2,
   "id": "846053ef",
   "metadata": {},
   "outputs": [],
   "source": [
    "api_key = \"[ENTER HUGGING FACE API KEY]\""
   ]
  },
  {
   "cell_type": "code",
   "execution_count": 3,
   "id": "e7d8ea66",
   "metadata": {},
   "outputs": [],
   "source": [
    "model_name = \"meta-llama/Llama-2-70b-chat-hf\"\n",
    "n_runs = 30"
   ]
  },
  {
   "cell_type": "code",
   "execution_count": 4,
   "id": "c8118da1",
   "metadata": {},
   "outputs": [],
   "source": [
    "columns = ['trial','context','L_index','H_index','L_option','H_option',\n",
    "           'left_index','right_index','left_option','right_option','choice','accuracy','chose_left','L_outcome','H_outcome']"
   ]
  },
  {
   "cell_type": "code",
   "execution_count": null,
   "id": "b28ea070",
   "metadata": {},
   "outputs": [],
   "source": [
    "for run in range(n_runs):\n",
    "    task = simulations.HayesWedell2023CognitionTask_Standard(model_name = model_name, hf_token = api_key)\n",
    "    print(f\"\\nRun {run}\\n\")\n",
    "    data = task.simulate()\n",
    "    data = pd.DataFrame(data, columns=columns)\n",
    "    data.to_csv(f\"../data/Task 5 (HW2023b)/llama/standard prompt/llama HW2023b standard run {run}.csv\", index=False)"
   ]
  },
  {
   "cell_type": "code",
   "execution_count": null,
   "id": "9dbb9708",
   "metadata": {
    "scrolled": false
   },
   "outputs": [],
   "source": [
    "for run in range(n_runs):\n",
    "    task = simulations.HayesWedell2023CognitionTask_Comparisons(model_name = model_name, hf_token = api_key)\n",
    "    print(f\"\\nRun {run}\\n\")\n",
    "    data = task.simulate()\n",
    "    data = pd.DataFrame(data, columns=columns)\n",
    "    data.to_csv(f\"../data/Task 5 (HW2023b)/llama/comparisons prompt/llama HW2023b comparisons run {run}.csv\", index=False)"
   ]
  }
 ],
 "metadata": {
  "kernelspec": {
   "display_name": "Python 3 (ipykernel)",
   "language": "python",
   "name": "python3"
  },
  "language_info": {
   "codemirror_mode": {
    "name": "ipython",
    "version": 3
   },
   "file_extension": ".py",
   "mimetype": "text/x-python",
   "name": "python",
   "nbconvert_exporter": "python",
   "pygments_lexer": "ipython3",
   "version": "3.11.5"
  }
 },
 "nbformat": 4,
 "nbformat_minor": 5
}
