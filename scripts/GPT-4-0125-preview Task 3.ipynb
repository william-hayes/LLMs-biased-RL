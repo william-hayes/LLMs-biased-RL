{
 "cells": [
  {
   "cell_type": "code",
   "execution_count": 1,
   "id": "bd03f961",
   "metadata": {},
   "outputs": [],
   "source": [
    "from openai import OpenAI\n",
    "import pandas as pd\n",
    "import simulations_Task3 as simulations"
   ]
  },
  {
   "cell_type": "code",
   "execution_count": 2,
   "id": "f2ba4ef6",
   "metadata": {},
   "outputs": [],
   "source": [
    "api_key = \"[ENTER API KEY]\"\n",
    "client = OpenAI(api_key=api_key)"
   ]
  },
  {
   "cell_type": "code",
   "execution_count": 3,
   "id": "9e5ef654",
   "metadata": {},
   "outputs": [],
   "source": [
    "model_name = \"gpt-4-0125-preview\"\n",
    "n_runs = 30"
   ]
  },
  {
   "cell_type": "code",
   "execution_count": 4,
   "id": "7c1851ef",
   "metadata": {},
   "outputs": [],
   "source": [
    "columns = ['trial','context','L_index','H_index','L_option','H_option',\n",
    "           'left_index','right_index','left_option','right_option','choice','accuracy','chose_left','L_outcome','H_outcome']"
   ]
  },
  {
   "cell_type": "code",
   "execution_count": null,
   "id": "4cdaa63c",
   "metadata": {},
   "outputs": [],
   "source": [
    "for run in range(n_runs):\n",
    "    task = simulations.RelativeValueBanditTask_Standard(trials_per_context = 15, model_name = model_name, client = client)\n",
    "    print(f\"\\nRun {run}\\n\")\n",
    "    data = task.simulate()\n",
    "    data = pd.DataFrame(data, columns=columns)\n",
    "    data.to_csv(f\"../data/Task 3 (HW2023a)/gpt-4/standard prompt/gpt-4 HW2023a standard run {run}.csv\", index=False)"
   ]
  },
  {
   "cell_type": "code",
   "execution_count": null,
   "id": "aff0f1f6",
   "metadata": {},
   "outputs": [],
   "source": [
    "for run in range(n_runs):\n",
    "    task = simulations.RelativeValueBanditTask_Comparisons(trials_per_context = 15, model_name = model_name, client = client)\n",
    "    print(f\"\\nRun {run}\\n\")\n",
    "    data = task.simulate()\n",
    "    data = pd.DataFrame(data, columns=columns)\n",
    "    data.to_csv(f\"../data/Task 3 (HW2023a)/gpt-4/comparisons prompt/gpt-4 HW2023a comparisons run {run}.csv\", index=False)"
   ]
  }
 ],
 "metadata": {
  "kernelspec": {
   "display_name": "Python 3 (ipykernel)",
   "language": "python",
   "name": "python3"
  },
  "language_info": {
   "codemirror_mode": {
    "name": "ipython",
    "version": 3
   },
   "file_extension": ".py",
   "mimetype": "text/x-python",
   "name": "python",
   "nbconvert_exporter": "python",
   "pygments_lexer": "ipython3",
   "version": "3.11.5"
  }
 },
 "nbformat": 4,
 "nbformat_minor": 5
}
