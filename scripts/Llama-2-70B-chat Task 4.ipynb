{
 "cells": [
  {
   "cell_type": "code",
   "execution_count": 2,
   "id": "e17a5acc",
   "metadata": {},
   "outputs": [],
   "source": [
    "import pandas as pd\n",
    "import simulations_Task4 as simulations"
   ]
  },
  {
   "cell_type": "code",
   "execution_count": 3,
   "id": "846053ef",
   "metadata": {},
   "outputs": [],
   "source": [
    "api_key = \"[ENTER HUGGING FACE API KEY]\""
   ]
  },
  {
   "cell_type": "code",
   "execution_count": 4,
   "id": "e7d8ea66",
   "metadata": {},
   "outputs": [],
   "source": [
    "model_name = \"meta-llama/Llama-2-70b-chat-hf\"\n",
    "n_runs = 30"
   ]
  },
  {
   "cell_type": "code",
   "execution_count": 5,
   "id": "c8118da1",
   "metadata": {},
   "outputs": [],
   "source": [
    "columns = ['trial','context','L_index','M_index','H_index','L_option','M_option','H_option',\n",
    "           'left_index','middle_index','right_index','left_option','middle_option','right_option','choice','accuracy','chose_left','L_outcome','M_outcome','H_outcome']"
   ]
  },
  {
   "cell_type": "code",
   "execution_count": null,
   "id": "b28ea070",
   "metadata": {},
   "outputs": [],
   "source": [
    "for run in range(n_runs):\n",
    "    task = simulations.BavardPalminteri2023Task_Standard(model_name = model_name, hf_token = api_key)\n",
    "    print(f\"\\nRun {run}\\n\")\n",
    "    data = task.simulate()\n",
    "    data = pd.DataFrame(data, columns=columns)\n",
    "    data.to_csv(f\"../data/Task 4 (BP2023)/llama/standard prompt/llama BP2023 standard run {run}.csv\", index=False)"
   ]
  },
  {
   "cell_type": "code",
   "execution_count": null,
   "id": "9dbb9708",
   "metadata": {
    "scrolled": false
   },
   "outputs": [],
   "source": [
    "for run in range(n_runs):\n",
    "    task = simulations.BavardPalminteri2023Task_Comparisons(model_name = model_name, hf_token = api_key)\n",
    "    print(f\"\\nRun {run}\\n\")\n",
    "    data = task.simulate()\n",
    "    data = pd.DataFrame(data, columns=columns)\n",
    "    data.to_csv(f\"../data/Task 4 (BP2023)/llama/comparisons prompt/llama BP2023 comparisons run {run}.csv\", index=False)"
   ]
  }
 ],
 "metadata": {
  "kernelspec": {
   "display_name": "Python 3 (ipykernel)",
   "language": "python",
   "name": "python3"
  },
  "language_info": {
   "codemirror_mode": {
    "name": "ipython",
    "version": 3
   },
   "file_extension": ".py",
   "mimetype": "text/x-python",
   "name": "python",
   "nbconvert_exporter": "python",
   "pygments_lexer": "ipython3",
   "version": "3.11.5"
  }
 },
 "nbformat": 4,
 "nbformat_minor": 5
}
