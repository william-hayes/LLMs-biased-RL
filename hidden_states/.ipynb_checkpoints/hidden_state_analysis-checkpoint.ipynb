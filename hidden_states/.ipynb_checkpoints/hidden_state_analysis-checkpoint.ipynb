{
 "cells": [
  {
   "cell_type": "code",
   "execution_count": 39,
   "id": "4a31879d",
   "metadata": {},
   "outputs": [],
   "source": [
    "import numpy as np\n",
    "import pandas as pd\n",
    "import matplotlib.pyplot as plt\n",
    "import statsmodels.api as sm\n",
    "from scipy import stats\n",
    "import os"
   ]
  },
  {
   "cell_type": "markdown",
   "id": "bbb8cc5e",
   "metadata": {},
   "source": [
    "Load the trial data"
   ]
  },
  {
   "cell_type": "code",
   "execution_count": 2,
   "id": "0380b390",
   "metadata": {},
   "outputs": [],
   "source": [
    "trial_data = [pd.read_csv(f'trial_data/comparisons {run}.csv') for run in range(100)]"
   ]
  },
  {
   "cell_type": "code",
   "execution_count": 3,
   "id": "345da782",
   "metadata": {},
   "outputs": [],
   "source": [
    "trial_data = pd.concat(trial_data)"
   ]
  },
  {
   "cell_type": "code",
   "execution_count": 4,
   "id": "f474311d",
   "metadata": {},
   "outputs": [],
   "source": [
    "# transfer trials only\n",
    "trial_data = trial_data[trial_data.context == 99]"
   ]
  },
  {
   "cell_type": "code",
   "execution_count": 5,
   "id": "86ee2c9c",
   "metadata": {},
   "outputs": [
    {
     "data": {
      "text/plain": [
       "(2800, 15)"
      ]
     },
     "execution_count": 5,
     "metadata": {},
     "output_type": "execute_result"
    }
   ],
   "source": [
    "trial_data.shape"
   ]
  },
  {
   "cell_type": "markdown",
   "id": "3a1006f1",
   "metadata": {},
   "source": [
    "Load the hidden layer activations"
   ]
  },
  {
   "cell_type": "code",
   "execution_count": 7,
   "id": "8aa49897",
   "metadata": {},
   "outputs": [],
   "source": [
    "hidden_states = [np.load(f'hidden_states/comparisons {run}.npy') for run in range(100)]"
   ]
  },
  {
   "cell_type": "code",
   "execution_count": 8,
   "id": "c1d2382f",
   "metadata": {},
   "outputs": [],
   "source": [
    "hidden_states = np.stack(hidden_states).reshape((-1, 3072))"
   ]
  },
  {
   "cell_type": "code",
   "execution_count": 9,
   "id": "613b30ae",
   "metadata": {},
   "outputs": [
    {
     "data": {
      "text/plain": [
       "(2800, 3072)"
      ]
     },
     "execution_count": 9,
     "metadata": {},
     "output_type": "execute_result"
    }
   ],
   "source": [
    "hidden_states.shape"
   ]
  },
  {
   "cell_type": "code",
   "execution_count": 24,
   "id": "07888f5e",
   "metadata": {},
   "outputs": [],
   "source": [
    "n_units = hidden_states.shape[-1]"
   ]
  },
  {
   "cell_type": "markdown",
   "id": "50cdb58d",
   "metadata": {},
   "source": [
    "Absolute and relative values (normalized)"
   ]
  },
  {
   "cell_type": "code",
   "execution_count": 11,
   "id": "ba155de3",
   "metadata": {},
   "outputs": [],
   "source": [
    "abs_values = {0: 0/7, 1: 1/7, 2: 2/7, 3: 3/7, 4: 4/7, 5: 5/7, 6: 6/7, 7: 7/7}\n",
    "rel_values = {0: 0.0, 1: 1.0, 2: 0.0, 3: 1.0, 4: 0.0, 5: 1.0, 6: 0.0, 7: 1.0}"
   ]
  },
  {
   "cell_type": "code",
   "execution_count": 12,
   "id": "0fb4c5dd",
   "metadata": {},
   "outputs": [],
   "source": [
    "trial_data.loc[:, 'left_abs'] = [abs_values[index] for index in trial_data['left_index']]\n",
    "trial_data.loc[:, 'right_abs'] = [abs_values[index] for index in trial_data['right_index']]\n",
    "trial_data.loc[:, 'left_rel'] = [rel_values[index] for index in trial_data['left_index']]\n",
    "trial_data.loc[:, 'right_rel'] = [rel_values[index] for index in trial_data['right_index']]"
   ]
  },
  {
   "cell_type": "code",
   "execution_count": 13,
   "id": "7dc47293",
   "metadata": {},
   "outputs": [
    {
     "data": {
      "text/html": [
       "<div>\n",
       "<style scoped>\n",
       "    .dataframe tbody tr th:only-of-type {\n",
       "        vertical-align: middle;\n",
       "    }\n",
       "\n",
       "    .dataframe tbody tr th {\n",
       "        vertical-align: top;\n",
       "    }\n",
       "\n",
       "    .dataframe thead th {\n",
       "        text-align: right;\n",
       "    }\n",
       "</style>\n",
       "<table border=\"1\" class=\"dataframe\">\n",
       "  <thead>\n",
       "    <tr style=\"text-align: right;\">\n",
       "      <th></th>\n",
       "      <th>trial</th>\n",
       "      <th>context</th>\n",
       "      <th>L_index</th>\n",
       "      <th>H_index</th>\n",
       "      <th>L_option</th>\n",
       "      <th>H_option</th>\n",
       "      <th>left_index</th>\n",
       "      <th>right_index</th>\n",
       "      <th>left_option</th>\n",
       "      <th>right_option</th>\n",
       "      <th>choice</th>\n",
       "      <th>accuracy</th>\n",
       "      <th>chose_left</th>\n",
       "      <th>L_outcome</th>\n",
       "      <th>H_outcome</th>\n",
       "      <th>left_abs</th>\n",
       "      <th>right_abs</th>\n",
       "      <th>left_rel</th>\n",
       "      <th>right_rel</th>\n",
       "    </tr>\n",
       "  </thead>\n",
       "  <tbody>\n",
       "    <tr>\n",
       "      <th>40</th>\n",
       "      <td>0</td>\n",
       "      <td>99</td>\n",
       "      <td>0</td>\n",
       "      <td>1</td>\n",
       "      <td>A</td>\n",
       "      <td>E</td>\n",
       "      <td>0</td>\n",
       "      <td>1</td>\n",
       "      <td>A</td>\n",
       "      <td>E</td>\n",
       "      <td>E</td>\n",
       "      <td>1</td>\n",
       "      <td>0</td>\n",
       "      <td>0</td>\n",
       "      <td>0</td>\n",
       "      <td>0.000000</td>\n",
       "      <td>0.142857</td>\n",
       "      <td>0.0</td>\n",
       "      <td>1.0</td>\n",
       "    </tr>\n",
       "    <tr>\n",
       "      <th>41</th>\n",
       "      <td>1</td>\n",
       "      <td>99</td>\n",
       "      <td>0</td>\n",
       "      <td>2</td>\n",
       "      <td>A</td>\n",
       "      <td>D</td>\n",
       "      <td>2</td>\n",
       "      <td>0</td>\n",
       "      <td>D</td>\n",
       "      <td>A</td>\n",
       "      <td>D</td>\n",
       "      <td>1</td>\n",
       "      <td>1</td>\n",
       "      <td>0</td>\n",
       "      <td>0</td>\n",
       "      <td>0.285714</td>\n",
       "      <td>0.000000</td>\n",
       "      <td>0.0</td>\n",
       "      <td>0.0</td>\n",
       "    </tr>\n",
       "    <tr>\n",
       "      <th>42</th>\n",
       "      <td>2</td>\n",
       "      <td>99</td>\n",
       "      <td>0</td>\n",
       "      <td>3</td>\n",
       "      <td>A</td>\n",
       "      <td>F</td>\n",
       "      <td>0</td>\n",
       "      <td>3</td>\n",
       "      <td>A</td>\n",
       "      <td>F</td>\n",
       "      <td>F</td>\n",
       "      <td>1</td>\n",
       "      <td>0</td>\n",
       "      <td>0</td>\n",
       "      <td>0</td>\n",
       "      <td>0.000000</td>\n",
       "      <td>0.428571</td>\n",
       "      <td>0.0</td>\n",
       "      <td>1.0</td>\n",
       "    </tr>\n",
       "    <tr>\n",
       "      <th>43</th>\n",
       "      <td>3</td>\n",
       "      <td>99</td>\n",
       "      <td>0</td>\n",
       "      <td>4</td>\n",
       "      <td>A</td>\n",
       "      <td>B</td>\n",
       "      <td>4</td>\n",
       "      <td>0</td>\n",
       "      <td>B</td>\n",
       "      <td>A</td>\n",
       "      <td>B</td>\n",
       "      <td>1</td>\n",
       "      <td>1</td>\n",
       "      <td>0</td>\n",
       "      <td>0</td>\n",
       "      <td>0.571429</td>\n",
       "      <td>0.000000</td>\n",
       "      <td>0.0</td>\n",
       "      <td>0.0</td>\n",
       "    </tr>\n",
       "    <tr>\n",
       "      <th>44</th>\n",
       "      <td>4</td>\n",
       "      <td>99</td>\n",
       "      <td>0</td>\n",
       "      <td>5</td>\n",
       "      <td>A</td>\n",
       "      <td>H</td>\n",
       "      <td>0</td>\n",
       "      <td>5</td>\n",
       "      <td>A</td>\n",
       "      <td>H</td>\n",
       "      <td>H</td>\n",
       "      <td>1</td>\n",
       "      <td>0</td>\n",
       "      <td>0</td>\n",
       "      <td>0</td>\n",
       "      <td>0.000000</td>\n",
       "      <td>0.714286</td>\n",
       "      <td>0.0</td>\n",
       "      <td>1.0</td>\n",
       "    </tr>\n",
       "    <tr>\n",
       "      <th>...</th>\n",
       "      <td>...</td>\n",
       "      <td>...</td>\n",
       "      <td>...</td>\n",
       "      <td>...</td>\n",
       "      <td>...</td>\n",
       "      <td>...</td>\n",
       "      <td>...</td>\n",
       "      <td>...</td>\n",
       "      <td>...</td>\n",
       "      <td>...</td>\n",
       "      <td>...</td>\n",
       "      <td>...</td>\n",
       "      <td>...</td>\n",
       "      <td>...</td>\n",
       "      <td>...</td>\n",
       "      <td>...</td>\n",
       "      <td>...</td>\n",
       "      <td>...</td>\n",
       "      <td>...</td>\n",
       "    </tr>\n",
       "    <tr>\n",
       "      <th>63</th>\n",
       "      <td>23</td>\n",
       "      <td>99</td>\n",
       "      <td>4</td>\n",
       "      <td>6</td>\n",
       "      <td>B</td>\n",
       "      <td>A</td>\n",
       "      <td>4</td>\n",
       "      <td>6</td>\n",
       "      <td>B</td>\n",
       "      <td>A</td>\n",
       "      <td>B</td>\n",
       "      <td>0</td>\n",
       "      <td>1</td>\n",
       "      <td>0</td>\n",
       "      <td>0</td>\n",
       "      <td>0.571429</td>\n",
       "      <td>0.857143</td>\n",
       "      <td>0.0</td>\n",
       "      <td>0.0</td>\n",
       "    </tr>\n",
       "    <tr>\n",
       "      <th>64</th>\n",
       "      <td>24</td>\n",
       "      <td>99</td>\n",
       "      <td>4</td>\n",
       "      <td>7</td>\n",
       "      <td>B</td>\n",
       "      <td>D</td>\n",
       "      <td>4</td>\n",
       "      <td>7</td>\n",
       "      <td>B</td>\n",
       "      <td>D</td>\n",
       "      <td>D</td>\n",
       "      <td>1</td>\n",
       "      <td>0</td>\n",
       "      <td>0</td>\n",
       "      <td>0</td>\n",
       "      <td>0.571429</td>\n",
       "      <td>1.000000</td>\n",
       "      <td>0.0</td>\n",
       "      <td>1.0</td>\n",
       "    </tr>\n",
       "    <tr>\n",
       "      <th>65</th>\n",
       "      <td>25</td>\n",
       "      <td>99</td>\n",
       "      <td>5</td>\n",
       "      <td>6</td>\n",
       "      <td>C</td>\n",
       "      <td>A</td>\n",
       "      <td>6</td>\n",
       "      <td>5</td>\n",
       "      <td>A</td>\n",
       "      <td>C</td>\n",
       "      <td>C</td>\n",
       "      <td>0</td>\n",
       "      <td>0</td>\n",
       "      <td>0</td>\n",
       "      <td>0</td>\n",
       "      <td>0.857143</td>\n",
       "      <td>0.714286</td>\n",
       "      <td>0.0</td>\n",
       "      <td>1.0</td>\n",
       "    </tr>\n",
       "    <tr>\n",
       "      <th>66</th>\n",
       "      <td>26</td>\n",
       "      <td>99</td>\n",
       "      <td>5</td>\n",
       "      <td>7</td>\n",
       "      <td>C</td>\n",
       "      <td>D</td>\n",
       "      <td>7</td>\n",
       "      <td>5</td>\n",
       "      <td>D</td>\n",
       "      <td>C</td>\n",
       "      <td>D</td>\n",
       "      <td>1</td>\n",
       "      <td>1</td>\n",
       "      <td>0</td>\n",
       "      <td>0</td>\n",
       "      <td>1.000000</td>\n",
       "      <td>0.714286</td>\n",
       "      <td>1.0</td>\n",
       "      <td>1.0</td>\n",
       "    </tr>\n",
       "    <tr>\n",
       "      <th>67</th>\n",
       "      <td>27</td>\n",
       "      <td>99</td>\n",
       "      <td>6</td>\n",
       "      <td>7</td>\n",
       "      <td>A</td>\n",
       "      <td>D</td>\n",
       "      <td>6</td>\n",
       "      <td>7</td>\n",
       "      <td>A</td>\n",
       "      <td>D</td>\n",
       "      <td>D</td>\n",
       "      <td>1</td>\n",
       "      <td>0</td>\n",
       "      <td>0</td>\n",
       "      <td>0</td>\n",
       "      <td>0.857143</td>\n",
       "      <td>1.000000</td>\n",
       "      <td>0.0</td>\n",
       "      <td>1.0</td>\n",
       "    </tr>\n",
       "  </tbody>\n",
       "</table>\n",
       "<p>2800 rows × 19 columns</p>\n",
       "</div>"
      ],
      "text/plain": [
       "    trial  context  L_index  H_index L_option H_option  left_index  \\\n",
       "40      0       99        0        1        A        E           0   \n",
       "41      1       99        0        2        A        D           2   \n",
       "42      2       99        0        3        A        F           0   \n",
       "43      3       99        0        4        A        B           4   \n",
       "44      4       99        0        5        A        H           0   \n",
       "..    ...      ...      ...      ...      ...      ...         ...   \n",
       "63     23       99        4        6        B        A           4   \n",
       "64     24       99        4        7        B        D           4   \n",
       "65     25       99        5        6        C        A           6   \n",
       "66     26       99        5        7        C        D           7   \n",
       "67     27       99        6        7        A        D           6   \n",
       "\n",
       "    right_index left_option right_option choice  accuracy  chose_left  \\\n",
       "40            1           A            E      E         1           0   \n",
       "41            0           D            A      D         1           1   \n",
       "42            3           A            F      F         1           0   \n",
       "43            0           B            A      B         1           1   \n",
       "44            5           A            H      H         1           0   \n",
       "..          ...         ...          ...    ...       ...         ...   \n",
       "63            6           B            A      B         0           1   \n",
       "64            7           B            D      D         1           0   \n",
       "65            5           A            C      C         0           0   \n",
       "66            5           D            C      D         1           1   \n",
       "67            7           A            D      D         1           0   \n",
       "\n",
       "    L_outcome  H_outcome  left_abs  right_abs  left_rel  right_rel  \n",
       "40          0          0  0.000000   0.142857       0.0        1.0  \n",
       "41          0          0  0.285714   0.000000       0.0        0.0  \n",
       "42          0          0  0.000000   0.428571       0.0        1.0  \n",
       "43          0          0  0.571429   0.000000       0.0        0.0  \n",
       "44          0          0  0.000000   0.714286       0.0        1.0  \n",
       "..        ...        ...       ...        ...       ...        ...  \n",
       "63          0          0  0.571429   0.857143       0.0        0.0  \n",
       "64          0          0  0.571429   1.000000       0.0        1.0  \n",
       "65          0          0  0.857143   0.714286       0.0        1.0  \n",
       "66          0          0  1.000000   0.714286       1.0        1.0  \n",
       "67          0          0  0.857143   1.000000       0.0        1.0  \n",
       "\n",
       "[2800 rows x 19 columns]"
      ]
     },
     "execution_count": 13,
     "metadata": {},
     "output_type": "execute_result"
    }
   ],
   "source": [
    "trial_data"
   ]
  },
  {
   "cell_type": "markdown",
   "id": "20151e8a",
   "metadata": {},
   "source": [
    "Absolute value difference and relative value difference"
   ]
  },
  {
   "cell_type": "code",
   "execution_count": 14,
   "id": "49c233e7",
   "metadata": {},
   "outputs": [],
   "source": [
    "trial_data.loc[:, 'abs_diff_LR'] = trial_data['left_abs'] - trial_data['right_abs']\n",
    "trial_data.loc[:, 'rel_diff_LR'] = trial_data['left_rel'] - trial_data['right_rel']"
   ]
  },
  {
   "cell_type": "markdown",
   "id": "2403318a",
   "metadata": {},
   "source": [
    "Calculate proportion of trials on which the option with higher relative value was chosen"
   ]
  },
  {
   "cell_type": "code",
   "execution_count": 25,
   "id": "45ab61b4",
   "metadata": {},
   "outputs": [
    {
     "data": {
      "text/plain": [
       "1461"
      ]
     },
     "execution_count": 25,
     "metadata": {},
     "output_type": "execute_result"
    }
   ],
   "source": [
    "sum(((trial_data['rel_diff_LR'] == -1) & (trial_data['chose_left'] == 0)) | ((trial_data['rel_diff_LR'] == 1) & (trial_data['chose_left'] == 1)))"
   ]
  },
  {
   "cell_type": "code",
   "execution_count": 26,
   "id": "889ab21c",
   "metadata": {},
   "outputs": [
    {
     "data": {
      "text/plain": [
       "1600"
      ]
     },
     "execution_count": 26,
     "metadata": {},
     "output_type": "execute_result"
    }
   ],
   "source": [
    "sum((trial_data['rel_diff_LR'] != 0))"
   ]
  },
  {
   "cell_type": "code",
   "execution_count": 27,
   "id": "df42341e",
   "metadata": {},
   "outputs": [
    {
     "data": {
      "text/plain": [
       "0.913125"
      ]
     },
     "execution_count": 27,
     "metadata": {},
     "output_type": "execute_result"
    }
   ],
   "source": [
    "1461/1600"
   ]
  },
  {
   "cell_type": "markdown",
   "id": "c1e01cee",
   "metadata": {},
   "source": [
    "Model the activations in each unit"
   ]
  },
  {
   "cell_type": "code",
   "execution_count": 18,
   "id": "099f333c",
   "metadata": {},
   "outputs": [],
   "source": [
    "X = trial_data[['abs_diff_LR', 'rel_diff_LR']].to_numpy()"
   ]
  },
  {
   "cell_type": "code",
   "execution_count": 19,
   "id": "04411d4d",
   "metadata": {},
   "outputs": [],
   "source": [
    "X = sm.add_constant(X)"
   ]
  },
  {
   "cell_type": "code",
   "execution_count": 20,
   "id": "522a2e73",
   "metadata": {},
   "outputs": [
    {
     "data": {
      "text/plain": [
       "(2800, 3)"
      ]
     },
     "execution_count": 20,
     "metadata": {},
     "output_type": "execute_result"
    }
   ],
   "source": [
    "X.shape"
   ]
  },
  {
   "cell_type": "code",
   "execution_count": 28,
   "id": "4bf3911e",
   "metadata": {},
   "outputs": [],
   "source": [
    "coeffs = np.zeros((n_units, 3))\n",
    "pvalues = np.zeros((n_units, 3))\n",
    "for i in range(n_units):\n",
    "    model = sm.OLS(hidden_states[:, i], X)\n",
    "    results = model.fit()\n",
    "    coeffs[i] = results.params\n",
    "    pvalues[i] = results.pvalues"
   ]
  },
  {
   "cell_type": "markdown",
   "id": "26ed3a69",
   "metadata": {},
   "source": [
    "Critical p-value, corrected for multiple tests"
   ]
  },
  {
   "cell_type": "code",
   "execution_count": 29,
   "id": "b6115687",
   "metadata": {},
   "outputs": [],
   "source": [
    "p_bonf = .001 / (n_units * 2)"
   ]
  },
  {
   "cell_type": "code",
   "execution_count": 30,
   "id": "279d80b5",
   "metadata": {},
   "outputs": [
    {
     "data": {
      "text/plain": [
       "1.6276041666666666e-07"
      ]
     },
     "execution_count": 30,
     "metadata": {},
     "output_type": "execute_result"
    }
   ],
   "source": [
    "p_bonf"
   ]
  },
  {
   "cell_type": "code",
   "execution_count": 33,
   "id": "b628b2fa",
   "metadata": {},
   "outputs": [
    {
     "data": {
      "text/plain": [
       "59"
      ]
     },
     "execution_count": 33,
     "metadata": {},
     "output_type": "execute_result"
    }
   ],
   "source": [
    "sum(pvalues[:,1] < p_bonf)"
   ]
  },
  {
   "cell_type": "code",
   "execution_count": 34,
   "id": "713bb7da",
   "metadata": {},
   "outputs": [
    {
     "data": {
      "text/plain": [
       "2199"
      ]
     },
     "execution_count": 34,
     "metadata": {},
     "output_type": "execute_result"
    }
   ],
   "source": [
    "sum(pvalues[:,2] < p_bonf)"
   ]
  },
  {
   "cell_type": "markdown",
   "id": "60944f4a",
   "metadata": {},
   "source": [
    "Number of hidden units with non-significant effects"
   ]
  },
  {
   "cell_type": "code",
   "execution_count": 35,
   "id": "ecfeda3a",
   "metadata": {},
   "outputs": [
    {
     "data": {
      "text/plain": [
       "873"
      ]
     },
     "execution_count": 35,
     "metadata": {},
     "output_type": "execute_result"
    }
   ],
   "source": [
    "sum((pvalues[:,1] > p_bonf) & (pvalues[:,2] > p_bonf))"
   ]
  },
  {
   "cell_type": "markdown",
   "id": "afb0ebf2",
   "metadata": {},
   "source": [
    "Number of hidden units with absolute value effect only"
   ]
  },
  {
   "cell_type": "code",
   "execution_count": 36,
   "id": "81254052",
   "metadata": {},
   "outputs": [
    {
     "data": {
      "text/plain": [
       "0"
      ]
     },
     "execution_count": 36,
     "metadata": {},
     "output_type": "execute_result"
    }
   ],
   "source": [
    "sum((pvalues[:,1] < p_bonf) & (pvalues[:,2] > p_bonf))"
   ]
  },
  {
   "cell_type": "markdown",
   "id": "9c517df3",
   "metadata": {},
   "source": [
    "Number of hidden units with relative value effect only"
   ]
  },
  {
   "cell_type": "code",
   "execution_count": 37,
   "id": "c4541dca",
   "metadata": {},
   "outputs": [
    {
     "data": {
      "text/plain": [
       "2140"
      ]
     },
     "execution_count": 37,
     "metadata": {},
     "output_type": "execute_result"
    }
   ],
   "source": [
    "sum((pvalues[:,1] > p_bonf) & (pvalues[:,2] < p_bonf))"
   ]
  },
  {
   "cell_type": "markdown",
   "id": "92081038",
   "metadata": {},
   "source": [
    "Number of hidden units with both significant effects"
   ]
  },
  {
   "cell_type": "code",
   "execution_count": 38,
   "id": "bdef3d7c",
   "metadata": {},
   "outputs": [
    {
     "data": {
      "text/plain": [
       "59"
      ]
     },
     "execution_count": 38,
     "metadata": {},
     "output_type": "execute_result"
    }
   ],
   "source": [
    "sum((pvalues[:,1] < p_bonf) & (pvalues[:,2] < p_bonf))"
   ]
  },
  {
   "cell_type": "code",
   "execution_count": 42,
   "id": "7a81559e",
   "metadata": {},
   "outputs": [
    {
     "data": {
      "image/png": "[encoded data removed]",
      "text/plain": [
       "<Figure size 640x480 with 1 Axes>"
      ]
     },
     "metadata": {},
     "output_type": "display_data"
    }
   ],
   "source": [
    "plt.bar(['abs. value\\ndifference', 'rel. value\\ndifference'], np.mean(np.abs(coeffs), axis=0)[1:])\n",
    "plt.errorbar(['abs. value\\ndifference', 'rel. value\\ndifference'], np.mean(np.abs(coeffs), axis=0)[1:],\n",
    "            yerr=stats.sem(np.abs(coeffs), axis=0)[1:], linestyle='', c='black', capsize=8)\n",
    "plt.ylabel('slope magnitude |β|')\n",
    "plt.title('comparisons prompt')\n",
    "plt.show()"
   ]
  },
  {
   "cell_type": "code",
   "execution_count": 43,
   "id": "7c37d035",
   "metadata": {},
   "outputs": [],
   "source": [
    "comparisons_coeffs = coeffs.copy()"
   ]
  },
  {
   "cell_type": "code",
   "execution_count": 44,
   "id": "8c7d3b01",
   "metadata": {},
   "outputs": [],
   "source": [
    "trial_data = [pd.read_csv(f'trial_data/standard {run}.csv') for run in range(100)]"
   ]
  },
  {
   "cell_type": "code",
   "execution_count": 45,
   "id": "96482b26",
   "metadata": {},
   "outputs": [],
   "source": [
    "trial_data = pd.concat(trial_data)"
   ]
  },
  {
   "cell_type": "code",
   "execution_count": 46,
   "id": "c55895bb",
   "metadata": {},
   "outputs": [],
   "source": [
    "trial_data = trial_data[trial_data.context == 99]"
   ]
  },
  {
   "cell_type": "code",
   "execution_count": 47,
   "id": "3218a787",
   "metadata": {},
   "outputs": [
    {
     "data": {
      "text/plain": [
       "(2800, 15)"
      ]
     },
     "execution_count": 47,
     "metadata": {},
     "output_type": "execute_result"
    }
   ],
   "source": [
    "trial_data.shape"
   ]
  },
  {
   "cell_type": "code",
   "execution_count": 48,
   "id": "af383733",
   "metadata": {},
   "outputs": [],
   "source": [
    "hidden_states = [np.load(f'hidden_states/standard {run}.npy') for run in range(100)]"
   ]
  },
  {
   "cell_type": "code",
   "execution_count": 49,
   "id": "6db96996",
   "metadata": {},
   "outputs": [],
   "source": [
    "hidden_states = np.stack(hidden_states).reshape((-1, 3072))"
   ]
  },
  {
   "cell_type": "code",
   "execution_count": 50,
   "id": "e37e9f62",
   "metadata": {},
   "outputs": [
    {
     "data": {
      "text/plain": [
       "(2800, 3072)"
      ]
     },
     "execution_count": 50,
     "metadata": {},
     "output_type": "execute_result"
    }
   ],
   "source": [
    "hidden_states.shape"
   ]
  },
  {
   "cell_type": "code",
   "execution_count": 51,
   "id": "da9ef64f",
   "metadata": {},
   "outputs": [],
   "source": [
    "abs_values = {0: 0/7, 1: 1/7, 2: 2/7, 3: 3/7, 4: 4/7, 5: 5/7, 6: 6/7, 7: 7/7}\n",
    "rel_values = {0: 0.0, 1: 1.0, 2: 0.0, 3: 1.0, 4: 0.0, 5: 1.0, 6: 0.0, 7: 1.0}"
   ]
  },
  {
   "cell_type": "code",
   "execution_count": 52,
   "id": "3bb58396",
   "metadata": {},
   "outputs": [],
   "source": [
    "trial_data.loc[:, 'left_abs'] = [abs_values[index] for index in trial_data['left_index']]\n",
    "trial_data.loc[:, 'right_abs'] = [abs_values[index] for index in trial_data['right_index']]\n",
    "trial_data.loc[:, 'left_rel'] = [rel_values[index] for index in trial_data['left_index']]\n",
    "trial_data.loc[:, 'right_rel'] = [rel_values[index] for index in trial_data['right_index']]"
   ]
  },
  {
   "cell_type": "code",
   "execution_count": 53,
   "id": "7988a9f6",
   "metadata": {},
   "outputs": [
    {
     "data": {
      "text/html": [
       "<div>\n",
       "<style scoped>\n",
       "    .dataframe tbody tr th:only-of-type {\n",
       "        vertical-align: middle;\n",
       "    }\n",
       "\n",
       "    .dataframe tbody tr th {\n",
       "        vertical-align: top;\n",
       "    }\n",
       "\n",
       "    .dataframe thead th {\n",
       "        text-align: right;\n",
       "    }\n",
       "</style>\n",
       "<table border=\"1\" class=\"dataframe\">\n",
       "  <thead>\n",
       "    <tr style=\"text-align: right;\">\n",
       "      <th></th>\n",
       "      <th>trial</th>\n",
       "      <th>context</th>\n",
       "      <th>L_index</th>\n",
       "      <th>H_index</th>\n",
       "      <th>L_option</th>\n",
       "      <th>H_option</th>\n",
       "      <th>left_index</th>\n",
       "      <th>right_index</th>\n",
       "      <th>left_option</th>\n",
       "      <th>right_option</th>\n",
       "      <th>choice</th>\n",
       "      <th>accuracy</th>\n",
       "      <th>chose_left</th>\n",
       "      <th>L_outcome</th>\n",
       "      <th>H_outcome</th>\n",
       "      <th>left_abs</th>\n",
       "      <th>right_abs</th>\n",
       "      <th>left_rel</th>\n",
       "      <th>right_rel</th>\n",
       "    </tr>\n",
       "  </thead>\n",
       "  <tbody>\n",
       "    <tr>\n",
       "      <th>40</th>\n",
       "      <td>0</td>\n",
       "      <td>99</td>\n",
       "      <td>0</td>\n",
       "      <td>1</td>\n",
       "      <td>A</td>\n",
       "      <td>B</td>\n",
       "      <td>1</td>\n",
       "      <td>0</td>\n",
       "      <td>B</td>\n",
       "      <td>A</td>\n",
       "      <td>B</td>\n",
       "      <td>1</td>\n",
       "      <td>1</td>\n",
       "      <td>0</td>\n",
       "      <td>0</td>\n",
       "      <td>0.142857</td>\n",
       "      <td>0.000000</td>\n",
       "      <td>1.0</td>\n",
       "      <td>0.0</td>\n",
       "    </tr>\n",
       "    <tr>\n",
       "      <th>41</th>\n",
       "      <td>1</td>\n",
       "      <td>99</td>\n",
       "      <td>0</td>\n",
       "      <td>2</td>\n",
       "      <td>A</td>\n",
       "      <td>F</td>\n",
       "      <td>2</td>\n",
       "      <td>0</td>\n",
       "      <td>F</td>\n",
       "      <td>A</td>\n",
       "      <td>F</td>\n",
       "      <td>1</td>\n",
       "      <td>1</td>\n",
       "      <td>0</td>\n",
       "      <td>0</td>\n",
       "      <td>0.285714</td>\n",
       "      <td>0.000000</td>\n",
       "      <td>0.0</td>\n",
       "      <td>0.0</td>\n",
       "    </tr>\n",
       "    <tr>\n",
       "      <th>42</th>\n",
       "      <td>2</td>\n",
       "      <td>99</td>\n",
       "      <td>0</td>\n",
       "      <td>3</td>\n",
       "      <td>A</td>\n",
       "      <td>C</td>\n",
       "      <td>3</td>\n",
       "      <td>0</td>\n",
       "      <td>C</td>\n",
       "      <td>A</td>\n",
       "      <td>C</td>\n",
       "      <td>1</td>\n",
       "      <td>1</td>\n",
       "      <td>0</td>\n",
       "      <td>0</td>\n",
       "      <td>0.428571</td>\n",
       "      <td>0.000000</td>\n",
       "      <td>1.0</td>\n",
       "      <td>0.0</td>\n",
       "    </tr>\n",
       "    <tr>\n",
       "      <th>43</th>\n",
       "      <td>3</td>\n",
       "      <td>99</td>\n",
       "      <td>0</td>\n",
       "      <td>4</td>\n",
       "      <td>A</td>\n",
       "      <td>E</td>\n",
       "      <td>0</td>\n",
       "      <td>4</td>\n",
       "      <td>A</td>\n",
       "      <td>E</td>\n",
       "      <td>A</td>\n",
       "      <td>0</td>\n",
       "      <td>1</td>\n",
       "      <td>0</td>\n",
       "      <td>0</td>\n",
       "      <td>0.000000</td>\n",
       "      <td>0.571429</td>\n",
       "      <td>0.0</td>\n",
       "      <td>0.0</td>\n",
       "    </tr>\n",
       "    <tr>\n",
       "      <th>44</th>\n",
       "      <td>4</td>\n",
       "      <td>99</td>\n",
       "      <td>0</td>\n",
       "      <td>5</td>\n",
       "      <td>A</td>\n",
       "      <td>G</td>\n",
       "      <td>0</td>\n",
       "      <td>5</td>\n",
       "      <td>A</td>\n",
       "      <td>G</td>\n",
       "      <td>G</td>\n",
       "      <td>1</td>\n",
       "      <td>0</td>\n",
       "      <td>0</td>\n",
       "      <td>0</td>\n",
       "      <td>0.000000</td>\n",
       "      <td>0.714286</td>\n",
       "      <td>0.0</td>\n",
       "      <td>1.0</td>\n",
       "    </tr>\n",
       "    <tr>\n",
       "      <th>...</th>\n",
       "      <td>...</td>\n",
       "      <td>...</td>\n",
       "      <td>...</td>\n",
       "      <td>...</td>\n",
       "      <td>...</td>\n",
       "      <td>...</td>\n",
       "      <td>...</td>\n",
       "      <td>...</td>\n",
       "      <td>...</td>\n",
       "      <td>...</td>\n",
       "      <td>...</td>\n",
       "      <td>...</td>\n",
       "      <td>...</td>\n",
       "      <td>...</td>\n",
       "      <td>...</td>\n",
       "      <td>...</td>\n",
       "      <td>...</td>\n",
       "      <td>...</td>\n",
       "      <td>...</td>\n",
       "    </tr>\n",
       "    <tr>\n",
       "      <th>63</th>\n",
       "      <td>23</td>\n",
       "      <td>99</td>\n",
       "      <td>4</td>\n",
       "      <td>6</td>\n",
       "      <td>A</td>\n",
       "      <td>C</td>\n",
       "      <td>6</td>\n",
       "      <td>4</td>\n",
       "      <td>C</td>\n",
       "      <td>A</td>\n",
       "      <td>C</td>\n",
       "      <td>1</td>\n",
       "      <td>1</td>\n",
       "      <td>0</td>\n",
       "      <td>0</td>\n",
       "      <td>0.857143</td>\n",
       "      <td>0.571429</td>\n",
       "      <td>0.0</td>\n",
       "      <td>0.0</td>\n",
       "    </tr>\n",
       "    <tr>\n",
       "      <th>64</th>\n",
       "      <td>24</td>\n",
       "      <td>99</td>\n",
       "      <td>4</td>\n",
       "      <td>7</td>\n",
       "      <td>A</td>\n",
       "      <td>F</td>\n",
       "      <td>4</td>\n",
       "      <td>7</td>\n",
       "      <td>A</td>\n",
       "      <td>F</td>\n",
       "      <td>F</td>\n",
       "      <td>1</td>\n",
       "      <td>0</td>\n",
       "      <td>0</td>\n",
       "      <td>0</td>\n",
       "      <td>0.571429</td>\n",
       "      <td>1.000000</td>\n",
       "      <td>0.0</td>\n",
       "      <td>1.0</td>\n",
       "    </tr>\n",
       "    <tr>\n",
       "      <th>65</th>\n",
       "      <td>25</td>\n",
       "      <td>99</td>\n",
       "      <td>5</td>\n",
       "      <td>6</td>\n",
       "      <td>G</td>\n",
       "      <td>C</td>\n",
       "      <td>5</td>\n",
       "      <td>6</td>\n",
       "      <td>G</td>\n",
       "      <td>C</td>\n",
       "      <td>G</td>\n",
       "      <td>0</td>\n",
       "      <td>1</td>\n",
       "      <td>0</td>\n",
       "      <td>0</td>\n",
       "      <td>0.714286</td>\n",
       "      <td>0.857143</td>\n",
       "      <td>1.0</td>\n",
       "      <td>0.0</td>\n",
       "    </tr>\n",
       "    <tr>\n",
       "      <th>66</th>\n",
       "      <td>26</td>\n",
       "      <td>99</td>\n",
       "      <td>5</td>\n",
       "      <td>7</td>\n",
       "      <td>G</td>\n",
       "      <td>F</td>\n",
       "      <td>7</td>\n",
       "      <td>5</td>\n",
       "      <td>F</td>\n",
       "      <td>G</td>\n",
       "      <td>F</td>\n",
       "      <td>1</td>\n",
       "      <td>1</td>\n",
       "      <td>0</td>\n",
       "      <td>0</td>\n",
       "      <td>1.000000</td>\n",
       "      <td>0.714286</td>\n",
       "      <td>1.0</td>\n",
       "      <td>1.0</td>\n",
       "    </tr>\n",
       "    <tr>\n",
       "      <th>67</th>\n",
       "      <td>27</td>\n",
       "      <td>99</td>\n",
       "      <td>6</td>\n",
       "      <td>7</td>\n",
       "      <td>C</td>\n",
       "      <td>F</td>\n",
       "      <td>7</td>\n",
       "      <td>6</td>\n",
       "      <td>F</td>\n",
       "      <td>C</td>\n",
       "      <td>F</td>\n",
       "      <td>1</td>\n",
       "      <td>1</td>\n",
       "      <td>0</td>\n",
       "      <td>0</td>\n",
       "      <td>1.000000</td>\n",
       "      <td>0.857143</td>\n",
       "      <td>1.0</td>\n",
       "      <td>0.0</td>\n",
       "    </tr>\n",
       "  </tbody>\n",
       "</table>\n",
       "<p>2800 rows × 19 columns</p>\n",
       "</div>"
      ],
      "text/plain": [
       "    trial  context  L_index  H_index L_option H_option  left_index  \\\n",
       "40      0       99        0        1        A        B           1   \n",
       "41      1       99        0        2        A        F           2   \n",
       "42      2       99        0        3        A        C           3   \n",
       "43      3       99        0        4        A        E           0   \n",
       "44      4       99        0        5        A        G           0   \n",
       "..    ...      ...      ...      ...      ...      ...         ...   \n",
       "63     23       99        4        6        A        C           6   \n",
       "64     24       99        4        7        A        F           4   \n",
       "65     25       99        5        6        G        C           5   \n",
       "66     26       99        5        7        G        F           7   \n",
       "67     27       99        6        7        C        F           7   \n",
       "\n",
       "    right_index left_option right_option choice  accuracy  chose_left  \\\n",
       "40            0           B            A      B         1           1   \n",
       "41            0           F            A      F         1           1   \n",
       "42            0           C            A      C         1           1   \n",
       "43            4           A            E      A         0           1   \n",
       "44            5           A            G      G         1           0   \n",
       "..          ...         ...          ...    ...       ...         ...   \n",
       "63            4           C            A      C         1           1   \n",
       "64            7           A            F      F         1           0   \n",
       "65            6           G            C      G         0           1   \n",
       "66            5           F            G      F         1           1   \n",
       "67            6           F            C      F         1           1   \n",
       "\n",
       "    L_outcome  H_outcome  left_abs  right_abs  left_rel  right_rel  \n",
       "40          0          0  0.142857   0.000000       1.0        0.0  \n",
       "41          0          0  0.285714   0.000000       0.0        0.0  \n",
       "42          0          0  0.428571   0.000000       1.0        0.0  \n",
       "43          0          0  0.000000   0.571429       0.0        0.0  \n",
       "44          0          0  0.000000   0.714286       0.0        1.0  \n",
       "..        ...        ...       ...        ...       ...        ...  \n",
       "63          0          0  0.857143   0.571429       0.0        0.0  \n",
       "64          0          0  0.571429   1.000000       0.0        1.0  \n",
       "65          0          0  0.714286   0.857143       1.0        0.0  \n",
       "66          0          0  1.000000   0.714286       1.0        1.0  \n",
       "67          0          0  1.000000   0.857143       1.0        0.0  \n",
       "\n",
       "[2800 rows x 19 columns]"
      ]
     },
     "execution_count": 53,
     "metadata": {},
     "output_type": "execute_result"
    }
   ],
   "source": [
    "trial_data"
   ]
  },
  {
   "cell_type": "code",
   "execution_count": 54,
   "id": "68369d95",
   "metadata": {},
   "outputs": [],
   "source": [
    "trial_data.loc[:, 'abs_diff_LR'] = trial_data['left_abs'] - trial_data['right_abs']\n",
    "trial_data.loc[:, 'rel_diff_LR'] = trial_data['left_rel'] - trial_data['right_rel']"
   ]
  },
  {
   "cell_type": "code",
   "execution_count": 55,
   "id": "1b4a3d65",
   "metadata": {},
   "outputs": [
    {
     "data": {
      "text/plain": [
       "979"
      ]
     },
     "execution_count": 55,
     "metadata": {},
     "output_type": "execute_result"
    }
   ],
   "source": [
    "sum(((trial_data['rel_diff_LR'] == -1) & (trial_data['chose_left'] == 0)) | ((trial_data['rel_diff_LR'] == 1) & (trial_data['chose_left'] == 1)))"
   ]
  },
  {
   "cell_type": "code",
   "execution_count": 57,
   "id": "4f0b47d5",
   "metadata": {},
   "outputs": [
    {
     "data": {
      "text/plain": [
       "1600"
      ]
     },
     "execution_count": 57,
     "metadata": {},
     "output_type": "execute_result"
    }
   ],
   "source": [
    "sum(trial_data['rel_diff_LR'] != 0)"
   ]
  },
  {
   "cell_type": "code",
   "execution_count": 56,
   "id": "2633d53b",
   "metadata": {},
   "outputs": [
    {
     "data": {
      "text/plain": [
       "0.611875"
      ]
     },
     "execution_count": 56,
     "metadata": {},
     "output_type": "execute_result"
    }
   ],
   "source": [
    "979/1600"
   ]
  },
  {
   "cell_type": "code",
   "execution_count": 58,
   "id": "365e6b39",
   "metadata": {},
   "outputs": [],
   "source": [
    "X = trial_data[['abs_diff_LR', 'rel_diff_LR']].to_numpy()"
   ]
  },
  {
   "cell_type": "code",
   "execution_count": 59,
   "id": "173bbfc0",
   "metadata": {},
   "outputs": [],
   "source": [
    "X = sm.add_constant(X)"
   ]
  },
  {
   "cell_type": "code",
   "execution_count": 60,
   "id": "a0b15382",
   "metadata": {},
   "outputs": [
    {
     "data": {
      "text/plain": [
       "(2800, 3)"
      ]
     },
     "execution_count": 60,
     "metadata": {},
     "output_type": "execute_result"
    }
   ],
   "source": [
    "X.shape"
   ]
  },
  {
   "cell_type": "code",
   "execution_count": 61,
   "id": "2c86d49c",
   "metadata": {},
   "outputs": [],
   "source": [
    "n_units = hidden_states.shape[-1]\n",
    "coeffs = np.zeros((n_units, 3))\n",
    "pvalues = np.zeros((n_units, 3))\n",
    "for i in range(n_units):\n",
    "    model = sm.OLS(hidden_states[:, i], X)\n",
    "    results = model.fit()\n",
    "    coeffs[i] = results.params\n",
    "    pvalues[i] = results.pvalues"
   ]
  },
  {
   "cell_type": "code",
   "execution_count": 62,
   "id": "beb99efb",
   "metadata": {},
   "outputs": [],
   "source": [
    "p_bonf = .001 / (n_units * 2)"
   ]
  },
  {
   "cell_type": "code",
   "execution_count": 63,
   "id": "3b71a671",
   "metadata": {},
   "outputs": [
    {
     "data": {
      "text/plain": [
       "1.6276041666666666e-07"
      ]
     },
     "execution_count": 63,
     "metadata": {},
     "output_type": "execute_result"
    }
   ],
   "source": [
    "p_bonf"
   ]
  },
  {
   "cell_type": "code",
   "execution_count": 64,
   "id": "98036592",
   "metadata": {},
   "outputs": [
    {
     "data": {
      "text/plain": [
       "587"
      ]
     },
     "execution_count": 64,
     "metadata": {},
     "output_type": "execute_result"
    }
   ],
   "source": [
    "sum(pvalues[:,1] < p_bonf)"
   ]
  },
  {
   "cell_type": "code",
   "execution_count": 65,
   "id": "aae6a9f7",
   "metadata": {},
   "outputs": [
    {
     "data": {
      "text/plain": [
       "117"
      ]
     },
     "execution_count": 65,
     "metadata": {},
     "output_type": "execute_result"
    }
   ],
   "source": [
    "sum(pvalues[:,2] < p_bonf)"
   ]
  },
  {
   "cell_type": "code",
   "execution_count": 66,
   "id": "a6cf6167",
   "metadata": {},
   "outputs": [
    {
     "data": {
      "text/plain": [
       "2474"
      ]
     },
     "execution_count": 66,
     "metadata": {},
     "output_type": "execute_result"
    }
   ],
   "source": [
    "sum((pvalues[:,1] > p_bonf) & (pvalues[:,2] > p_bonf))"
   ]
  },
  {
   "cell_type": "code",
   "execution_count": 67,
   "id": "66bdeb60",
   "metadata": {},
   "outputs": [
    {
     "data": {
      "text/plain": [
       "481"
      ]
     },
     "execution_count": 67,
     "metadata": {},
     "output_type": "execute_result"
    }
   ],
   "source": [
    "sum((pvalues[:,1] < p_bonf) & (pvalues[:,2] > p_bonf))"
   ]
  },
  {
   "cell_type": "code",
   "execution_count": 68,
   "id": "7b339282",
   "metadata": {},
   "outputs": [
    {
     "data": {
      "text/plain": [
       "11"
      ]
     },
     "execution_count": 68,
     "metadata": {},
     "output_type": "execute_result"
    }
   ],
   "source": [
    "sum((pvalues[:,1] > p_bonf) & (pvalues[:,2] < p_bonf))"
   ]
  },
  {
   "cell_type": "code",
   "execution_count": 69,
   "id": "403d13f6",
   "metadata": {},
   "outputs": [
    {
     "data": {
      "text/plain": [
       "106"
      ]
     },
     "execution_count": 69,
     "metadata": {},
     "output_type": "execute_result"
    }
   ],
   "source": [
    "sum((pvalues[:,1] < p_bonf) & (pvalues[:,2] < p_bonf))"
   ]
  },
  {
   "cell_type": "code",
   "execution_count": 70,
   "id": "bc9af673",
   "metadata": {},
   "outputs": [
    {
     "data": {
      "image/png": "[encoded data removed]",
      "text/plain": [
       "<Figure size 640x480 with 1 Axes>"
      ]
     },
     "metadata": {},
     "output_type": "display_data"
    }
   ],
   "source": [
    "plt.bar(['abs. value\\ndifference', 'rel. value\\ndifference'], np.mean(np.abs(coeffs), axis=0)[1:])\n",
    "plt.errorbar(['abs. value\\ndifference', 'rel. value\\ndifference'], np.mean(np.abs(coeffs), axis=0)[1:],\n",
    "            yerr=stats.sem(np.abs(coeffs), axis=0)[1:], linestyle='', c='black', capsize=8)\n",
    "plt.ylabel('slope magnitude |β|')\n",
    "plt.title('standard prompt')\n",
    "plt.ylim((0, 0.142))"
   ]
  },
  {
   "cell_type": "code",
   "execution_count": 71,
   "id": "7b56483e",
   "metadata": {},
   "outputs": [],
   "source": [
    "standard_coeffs = coeffs.copy()"
   ]
  },
  {
   "cell_type": "code",
   "execution_count": 78,
   "id": "a9c0ea9c",
   "metadata": {},
   "outputs": [
    {
     "data": {
      "image/png": "[encoded data removed]",
      "text/plain": [
       "<Figure size 550x300 with 2 Axes>"
      ]
     },
     "metadata": {},
     "output_type": "display_data"
    }
   ],
   "source": [
    "fig, axs = plt.subplots(1, 2, figsize=(5.5, 3))\n",
    "\n",
    "axs[0].bar(['abs. value\\ndifference', 'rel. value\\ndifference'], \n",
    "           np.mean(np.abs(standard_coeffs), axis=0)[1:])\n",
    "axs[0].errorbar(['abs. value\\ndifference', 'rel. value\\ndifference'],\n",
    "                np.mean(np.abs(standard_coeffs), axis=0)[1:],\n",
    "                yerr=stats.sem(np.abs(standard_coeffs), axis=0)[1:],\n",
    "                linestyle='', c='black', capsize=8)\n",
    "axs[0].set_ylabel('slope magnitude |β|')\n",
    "axs[0].set_title('standard prompt')\n",
    "axs[0].set_ylim((0, 0.142))\n",
    "\n",
    "axs[1].bar(['abs. value\\ndifference', 'rel. value\\ndifference'], \n",
    "           np.mean(np.abs(comparisons_coeffs), axis=0)[1:])\n",
    "axs[1].errorbar(['abs. value\\ndifference', 'rel. value\\ndifference'],\n",
    "                np.mean(np.abs(comparisons_coeffs), axis=0)[1:],\n",
    "                yerr=stats.sem(np.abs(comparisons_coeffs), axis=0)[1:],\n",
    "                linestyle='', c='black', capsize=8)\n",
    "axs[1].set_ylabel('slope magnitude |β|')\n",
    "axs[1].set_title('comparisons prompt')\n",
    "\n",
    "plt.tight_layout()\n",
    "#plt.savefig('gemma_analysis.png', dpi=300)"
   ]
  },
  {
   "cell_type": "code",
   "execution_count": 84,
   "id": "18130326",
   "metadata": {},
   "outputs": [
    {
     "data": {
      "text/plain": [
       "TtestResult(statistic=16.354473300776597, pvalue=1.0376243926431804e-57, df=3071)"
      ]
     },
     "execution_count": 84,
     "metadata": {},
     "output_type": "execute_result"
    }
   ],
   "source": [
    "stats.ttest_rel(a=np.abs(standard_coeffs[:,1]), b=np.abs(standard_coeffs[:,2]))"
   ]
  },
  {
   "cell_type": "code",
   "execution_count": 90,
   "id": "b547a929",
   "metadata": {},
   "outputs": [
    {
     "data": {
      "text/plain": [
       "0.2951186488769407"
      ]
     },
     "execution_count": 90,
     "metadata": {},
     "output_type": "execute_result"
    }
   ],
   "source": [
    "np.mean(np.abs(standard_coeffs[:,1])- np.abs(standard_coeffs[:,2])) / np.std(np.abs(standard_coeffs[:,1])- np.abs(standard_coeffs[:,2]))"
   ]
  },
  {
   "cell_type": "code",
   "execution_count": 86,
   "id": "faa306cd",
   "metadata": {},
   "outputs": [
    {
     "data": {
      "text/plain": [
       "TtestResult(statistic=-23.83401732406833, pvalue=2.3985468147386423e-115, df=3071)"
      ]
     },
     "execution_count": 86,
     "metadata": {},
     "output_type": "execute_result"
    }
   ],
   "source": [
    "stats.ttest_rel(a=np.abs(comparisons_coeffs[:,1]), b=np.abs(comparisons_coeffs[:,2]))"
   ]
  },
  {
   "cell_type": "code",
   "execution_count": 92,
   "id": "c92dbae9",
   "metadata": {},
   "outputs": [
    {
     "data": {
      "text/plain": [
       "-0.4300880169375212"
      ]
     },
     "execution_count": 92,
     "metadata": {},
     "output_type": "execute_result"
    }
   ],
   "source": [
    "np.mean(np.abs(comparisons_coeffs[:,1])- np.abs(comparisons_coeffs[:,2])) / np.std(np.abs(comparisons_coeffs[:,1])- np.abs(comparisons_coeffs[:,2]))"
   ]
  }
 ],
 "metadata": {
  "kernelspec": {
   "display_name": "Python 3 (ipykernel)",
   "language": "python",
   "name": "python3"
  },
  "language_info": {
   "codemirror_mode": {
    "name": "ipython",
    "version": 3
   },
   "file_extension": ".py",
   "mimetype": "text/x-python",
   "name": "python",
   "nbconvert_exporter": "python",
   "pygments_lexer": "ipython3",
   "version": "3.11.5"
  }
 },
 "nbformat": 4,
 "nbformat_minor": 5
}
